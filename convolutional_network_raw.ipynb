{
 "cells": [
  {
   "cell_type": "code",
   "execution_count": 4,
   "metadata": {},
   "outputs": [
    {
     "name": "stdout",
     "output_type": "stream",
     "text": [
      "Extracting /tmp/data/train-images-idx3-ubyte.gz\n",
      "Extracting /tmp/data/train-labels-idx1-ubyte.gz\n",
      "Extracting /tmp/data/t10k-images-idx3-ubyte.gz\n",
      "Extracting /tmp/data/t10k-labels-idx1-ubyte.gz\n"
     ]
    }
   ],
   "source": [
    "from __future__ import division, print_function, absolute_import\n",
    "\n",
    "import tensorflow as tf\n",
    "\n",
    "# Import MNIST data\n",
    "from tensorflow.examples.tutorials.mnist import input_data\n",
    "mnist = input_data.read_data_sets(\"/tmp/data/\", one_hot=True)"
   ]
  },
  {
   "cell_type": "code",
   "execution_count": 5,
   "metadata": {},
   "outputs": [],
   "source": [
    "# Training Parameters\n",
    "learning_rate = 0.001\n",
    "num_steps = 500\n",
    "batch_size = 128\n",
    "display_step = 10\n",
    "\n",
    "# Network Parameters\n",
    "num_input = 784 # MNIST data input (img shape: 28*28)\n",
    "num_classes = 10 # MNIST total classes (0-9 digits)\n",
    "dropout = 0.50 # Dropout, probability to keep units\n",
    "\n",
    "# tf Graph input\n",
    "X = tf.placeholder(tf.float32, [None, num_input])\n",
    "Y = tf.placeholder(tf.float32, [None, num_classes])\n",
    "keep_prob = tf.placeholder(tf.float32) # dropout (keep probability)"
   ]
  },
  {
   "cell_type": "code",
   "execution_count": 6,
   "metadata": {},
   "outputs": [
    {
     "name": "stdout",
     "output_type": "stream",
     "text": [
      "WARNING:tensorflow:From C:\\Users\\Siddhesh Gunjal\\Anaconda3\\envs\\myenv\\lib\\site-packages\\tensorflow\\python\\framework\\op_def_library.py:263: colocate_with (from tensorflow.python.framework.ops) is deprecated and will be removed in a future version.\n",
      "Instructions for updating:\n",
      "Colocations handled automatically by placer.\n"
     ]
    }
   ],
   "source": [
    "# Store layers weight & bias\n",
    "weights = {\n",
    "    # 5x5 conv, 1 input, 32 outputs\n",
    "    'wc1': tf.Variable(tf.random_normal([5, 5, 1, 32])),\n",
    "    # 5x5 conv, 32 inputs, 64 outputs\n",
    "    'wc2': tf.Variable(tf.random_normal([5, 5, 32, 64])),\n",
    "    # fully connected, 7*7*64 inputs, 1024 outputs\n",
    "    'wd1': tf.Variable(tf.random_normal([7*7*64, 1024])),\n",
    "    # 1024 inputs, 10 outputs (class prediction)\n",
    "    'out': tf.Variable(tf.random_normal([1024, num_classes]))\n",
    "}\n",
    "\n",
    "biases = {\n",
    "    'bc1': tf.Variable(tf.random_normal([32])),\n",
    "    'bc2': tf.Variable(tf.random_normal([64])),\n",
    "    'bd1': tf.Variable(tf.random_normal([1024])),\n",
    "    'out': tf.Variable(tf.random_normal([num_classes]))\n",
    "}"
   ]
  },
  {
   "cell_type": "code",
   "execution_count": 7,
   "metadata": {},
   "outputs": [],
   "source": [
    "# Create some wrappers for simplicity\n",
    "def conv2d(x, W, b, strides=1):\n",
    "    # Conv2D wrapper, with bias and relu activation\n",
    "    x = tf.nn.conv2d(x, W, strides=[1, strides, strides, 1], padding='SAME')\n",
    "    x = tf.nn.bias_add(x, b)\n",
    "    return tf.nn.relu(x)\n",
    "\n",
    "\n",
    "def maxpool2d(x, k=2):\n",
    "    # MaxPool2D wrapper\n",
    "    return tf.nn.max_pool(x, ksize=[1, k, k, 1], strides=[1, k, k, 1],\n",
    "                          padding='SAME')\n",
    "\n",
    "\n",
    "# Create model\n",
    "def conv_net(x, weights, biases, dropout):\n",
    "    # MNIST data input is a 1-D vector of 784 features (28*28 pixels)\n",
    "    # Reshape to match picture format [Height x Width x Channel]\n",
    "    # Tensor input become 4-D: [Batch Size, Height, Width, Channel]\n",
    "    x = tf.reshape(x, shape=[-1, 28, 28, 1])\n",
    "\n",
    "    # Convolution Layer\n",
    "    conv1 = conv2d(x, weights['wc1'], biases['bc1'])\n",
    "    # Max Pooling (down-sampling)\n",
    "    conv1 = maxpool2d(conv1, k=2)\n",
    "\n",
    "    # Convolution Layer\n",
    "    conv2 = conv2d(conv1, weights['wc2'], biases['bc2'])\n",
    "    # Max Pooling (down-sampling)\n",
    "    conv2 = maxpool2d(conv2, k=2)\n",
    "\n",
    "    # Fully connected layer\n",
    "    # Reshape conv2 output to fit fully connected layer input\n",
    "    fc1 = tf.reshape(conv2, [-1, weights['wd1'].get_shape().as_list()[0]])\n",
    "    fc1 = tf.add(tf.matmul(fc1, weights['wd1']), biases['bd1'])\n",
    "    fc1 = tf.nn.relu(fc1)\n",
    "    # Apply Dropout\n",
    "    fc1 = tf.nn.dropout(fc1, dropout)\n",
    "\n",
    "    # Output, class prediction\n",
    "    out = tf.add(tf.matmul(fc1, weights['out']), biases['out'])\n",
    "    return out"
   ]
  },
  {
   "cell_type": "code",
   "execution_count": 8,
   "metadata": {},
   "outputs": [
    {
     "name": "stdout",
     "output_type": "stream",
     "text": [
      "WARNING:tensorflow:From <ipython-input-7-fce84427c804>:38: calling dropout (from tensorflow.python.ops.nn_ops) with keep_prob is deprecated and will be removed in a future version.\n",
      "Instructions for updating:\n",
      "Please use `rate` instead of `keep_prob`. Rate should be set to `rate = 1 - keep_prob`.\n",
      "WARNING:tensorflow:From <ipython-input-8-01a1334f1495>:7: softmax_cross_entropy_with_logits (from tensorflow.python.ops.nn_ops) is deprecated and will be removed in a future version.\n",
      "Instructions for updating:\n",
      "\n",
      "Future major versions of TensorFlow will allow gradients to flow\n",
      "into the labels input on backprop by default.\n",
      "\n",
      "See `tf.nn.softmax_cross_entropy_with_logits_v2`.\n",
      "\n"
     ]
    }
   ],
   "source": [
    "\n",
    "# Construct model\n",
    "logits = conv_net(X, weights, biases, keep_prob)\n",
    "prediction = tf.nn.softmax(logits)\n",
    "\n",
    "# Define loss and optimizer\n",
    "loss_op = tf.reduce_mean(tf.nn.softmax_cross_entropy_with_logits(\n",
    "    logits=logits, labels=Y))\n",
    "optimizer = tf.train.AdamOptimizer(learning_rate=learning_rate)\n",
    "train_op = optimizer.minimize(loss_op)\n",
    "\n",
    "\n",
    "# Evaluate model\n",
    "correct_pred = tf.equal(tf.argmax(prediction, 1), tf.argmax(Y, 1))\n",
    "accuracy = tf.reduce_mean(tf.cast(correct_pred, tf.float32))\n",
    "\n",
    "# Initialize the variables (i.e. assign their default value)\n",
    "init = tf.global_variables_initializer()"
   ]
  },
  {
   "cell_type": "code",
   "execution_count": 9,
   "metadata": {},
   "outputs": [
    {
     "name": "stdout",
     "output_type": "stream",
     "text": [
      "Step 1, Minibatch Loss= 51063.2227, Training Accuracy= 0.109\n",
      "Step 10, Minibatch Loss= 16993.1250, Training Accuracy= 0.273\n",
      "Step 20, Minibatch Loss= 6640.4238, Training Accuracy= 0.578\n",
      "Step 30, Minibatch Loss= 3467.0986, Training Accuracy= 0.727\n",
      "Step 40, Minibatch Loss= 4625.3862, Training Accuracy= 0.758\n",
      "Step 50, Minibatch Loss= 3114.4165, Training Accuracy= 0.820\n",
      "Step 60, Minibatch Loss= 2356.6719, Training Accuracy= 0.789\n",
      "Step 70, Minibatch Loss= 2982.0640, Training Accuracy= 0.836\n",
      "Step 80, Minibatch Loss= 2274.9978, Training Accuracy= 0.867\n",
      "Step 90, Minibatch Loss= 1913.1720, Training Accuracy= 0.836\n",
      "Step 100, Minibatch Loss= 1807.2488, Training Accuracy= 0.867\n",
      "Step 110, Minibatch Loss= 2105.4043, Training Accuracy= 0.891\n",
      "Step 120, Minibatch Loss= 1806.7432, Training Accuracy= 0.883\n",
      "Step 130, Minibatch Loss= 2626.7690, Training Accuracy= 0.875\n",
      "Step 140, Minibatch Loss= 1372.8608, Training Accuracy= 0.914\n",
      "Step 150, Minibatch Loss= 620.1252, Training Accuracy= 0.922\n",
      "Step 160, Minibatch Loss= 243.7021, Training Accuracy= 0.961\n",
      "Step 170, Minibatch Loss= 1239.9902, Training Accuracy= 0.906\n",
      "Step 180, Minibatch Loss= 545.9412, Training Accuracy= 0.945\n",
      "Step 190, Minibatch Loss= 762.4597, Training Accuracy= 0.938\n",
      "Step 200, Minibatch Loss= 2361.4128, Training Accuracy= 0.820\n",
      "Step 210, Minibatch Loss= 1109.6715, Training Accuracy= 0.898\n",
      "Step 220, Minibatch Loss= 767.0945, Training Accuracy= 0.922\n",
      "Step 230, Minibatch Loss= 750.7181, Training Accuracy= 0.914\n",
      "Step 240, Minibatch Loss= 916.5278, Training Accuracy= 0.922\n",
      "Step 250, Minibatch Loss= 693.4260, Training Accuracy= 0.906\n",
      "Step 260, Minibatch Loss= 515.8328, Training Accuracy= 0.945\n",
      "Step 270, Minibatch Loss= 689.5461, Training Accuracy= 0.906\n",
      "Step 280, Minibatch Loss= 1095.5507, Training Accuracy= 0.906\n",
      "Step 290, Minibatch Loss= 1033.3929, Training Accuracy= 0.914\n",
      "Step 300, Minibatch Loss= 779.2950, Training Accuracy= 0.938\n",
      "Step 310, Minibatch Loss= 383.2112, Training Accuracy= 0.938\n",
      "Step 320, Minibatch Loss= 753.6465, Training Accuracy= 0.930\n",
      "Step 330, Minibatch Loss= 1381.1868, Training Accuracy= 0.883\n",
      "Step 340, Minibatch Loss= 239.8699, Training Accuracy= 0.953\n",
      "Step 350, Minibatch Loss= 304.4686, Training Accuracy= 0.969\n",
      "Step 360, Minibatch Loss= 582.2046, Training Accuracy= 0.938\n",
      "Step 370, Minibatch Loss= 281.7599, Training Accuracy= 0.961\n",
      "Step 380, Minibatch Loss= 601.5551, Training Accuracy= 0.914\n",
      "Step 390, Minibatch Loss= 164.0332, Training Accuracy= 0.961\n",
      "Step 400, Minibatch Loss= 623.8631, Training Accuracy= 0.945\n",
      "Step 410, Minibatch Loss= 742.3936, Training Accuracy= 0.930\n",
      "Step 420, Minibatch Loss= 337.1816, Training Accuracy= 0.930\n",
      "Step 430, Minibatch Loss= 453.0347, Training Accuracy= 0.945\n",
      "Step 440, Minibatch Loss= 248.8889, Training Accuracy= 0.945\n",
      "Step 450, Minibatch Loss= 378.9926, Training Accuracy= 0.938\n",
      "Step 460, Minibatch Loss= 292.7964, Training Accuracy= 0.969\n",
      "Step 470, Minibatch Loss= 555.9415, Training Accuracy= 0.953\n",
      "Step 480, Minibatch Loss= 633.4906, Training Accuracy= 0.922\n",
      "Step 490, Minibatch Loss= 320.8882, Training Accuracy= 0.945\n",
      "Step 500, Minibatch Loss= 548.6631, Training Accuracy= 0.938\n",
      "Training Finished!\n",
      "Testing Accuracy: 0.98046875\n"
     ]
    }
   ],
   "source": [
    "# Start training\n",
    "with tf.Session() as sess:\n",
    "\n",
    "    # Run the initializer\n",
    "    sess.run(init)\n",
    "\n",
    "    for step in range(1, num_steps+1):\n",
    "        batch_x, batch_y = mnist.train.next_batch(batch_size)\n",
    "        # Run optimization op (backprop)\n",
    "        sess.run(train_op, feed_dict={X: batch_x, Y: batch_y, keep_prob: dropout})\n",
    "        if step % display_step == 0 or step == 1:\n",
    "            # Calculate batch loss and accuracy\n",
    "            loss, acc = sess.run([loss_op, accuracy], feed_dict={X: batch_x,\n",
    "                                                                 Y: batch_y,\n",
    "                                                                 keep_prob: 1.0})\n",
    "            print(\"Step \" + str(step) + \", Minibatch Loss= \" + \\\n",
    "                  \"{:.4f}\".format(loss) + \", Training Accuracy= \" + \\\n",
    "                  \"{:.3f}\".format(acc))\n",
    "\n",
    "    print(\"Training Finished!\")\n",
    "\n",
    "    # Calculate accuracy for 256 MNIST test images\n",
    "    print(\"Testing Accuracy:\", \\\n",
    "        sess.run(accuracy, feed_dict={X: mnist.test.images[:256],\n",
    "                                      Y: mnist.test.labels[:256],\n",
    "                                      keep_prob: 1.0}))\n"
   ]
  },
  {
   "cell_type": "code",
   "execution_count": null,
   "metadata": {},
   "outputs": [],
   "source": []
  }
 ],
 "metadata": {
  "kernelspec": {
   "display_name": "Python 3",
   "language": "python",
   "name": "python3"
  },
  "language_info": {
   "codemirror_mode": {
    "name": "ipython",
    "version": 3
   },
   "file_extension": ".py",
   "mimetype": "text/x-python",
   "name": "python",
   "nbconvert_exporter": "python",
   "pygments_lexer": "ipython3",
   "version": "3.6.10"
  }
 },
 "nbformat": 4,
 "nbformat_minor": 1
}
